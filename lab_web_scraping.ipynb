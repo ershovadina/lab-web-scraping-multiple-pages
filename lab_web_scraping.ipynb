{
 "cells": [
  {
   "cell_type": "code",
   "execution_count": 1,
   "metadata": {},
   "outputs": [],
   "source": [
    "def scrape_billboard():\n",
    "    from bs4 import BeautifulSoup\n",
    "    import requests\n",
    "    import pandas as pd\n",
    "    import numpy as np\n",
    "    \n",
    "    url = \"https://www.billboard.com/charts/hot-100\"\n",
    "    response = requests.get(url)\n",
    "    soup = BeautifulSoup(response.content, 'html.parser')\n",
    "    artist = []\n",
    "    song = []\n",
    "    length = len(soup.select(\"span.chart-element__information\"))\n",
    "    \n",
    "    for i in range(length):\n",
    "        artist.append(soup.select(\"span.chart-element__information__artist.text--truncate.color--secondary\")[i].get_text())\n",
    "        song.append(soup.select(\"span.chart-element__information__song.text--truncate.color--primary\")[i].get_text())\n",
    "    \n",
    "    df_billboard = pd.DataFrame({'artist':artist, \n",
    "                                 'song': song})\n",
    "    df_billboard['rank'] = np.arange(1, len(df_billboard)+1)\n",
    "    \n",
    "    return df_billboard"
   ]
  },
  {
   "cell_type": "code",
   "execution_count": 2,
   "metadata": {},
   "outputs": [],
   "source": [
    "data =  scrape_billboard()"
   ]
  },
  {
   "cell_type": "code",
   "execution_count": 3,
   "metadata": {},
   "outputs": [
    {
     "data": {
      "text/html": [
       "<div>\n",
       "<style scoped>\n",
       "    .dataframe tbody tr th:only-of-type {\n",
       "        vertical-align: middle;\n",
       "    }\n",
       "\n",
       "    .dataframe tbody tr th {\n",
       "        vertical-align: top;\n",
       "    }\n",
       "\n",
       "    .dataframe thead th {\n",
       "        text-align: right;\n",
       "    }\n",
       "</style>\n",
       "<table border=\"1\" class=\"dataframe\">\n",
       "  <thead>\n",
       "    <tr style=\"text-align: right;\">\n",
       "      <th></th>\n",
       "      <th>artist</th>\n",
       "      <th>song</th>\n",
       "      <th>rank</th>\n",
       "    </tr>\n",
       "  </thead>\n",
       "  <tbody>\n",
       "    <tr>\n",
       "      <th>0</th>\n",
       "      <td>Olivia Rodrigo</td>\n",
       "      <td>Drivers License</td>\n",
       "      <td>1</td>\n",
       "    </tr>\n",
       "    <tr>\n",
       "      <th>1</th>\n",
       "      <td>Ariana Grande</td>\n",
       "      <td>34+35</td>\n",
       "      <td>2</td>\n",
       "    </tr>\n",
       "    <tr>\n",
       "      <th>2</th>\n",
       "      <td>Lil Tjay Featuring 6LACK</td>\n",
       "      <td>Calling My Phone</td>\n",
       "      <td>3</td>\n",
       "    </tr>\n",
       "    <tr>\n",
       "      <th>3</th>\n",
       "      <td>The Weeknd</td>\n",
       "      <td>Blinding Lights</td>\n",
       "      <td>4</td>\n",
       "    </tr>\n",
       "    <tr>\n",
       "      <th>4</th>\n",
       "      <td>Cardi B</td>\n",
       "      <td>Up</td>\n",
       "      <td>5</td>\n",
       "    </tr>\n",
       "  </tbody>\n",
       "</table>\n",
       "</div>"
      ],
      "text/plain": [
       "                     artist              song  rank\n",
       "0            Olivia Rodrigo   Drivers License     1\n",
       "1             Ariana Grande             34+35     2\n",
       "2  Lil Tjay Featuring 6LACK  Calling My Phone     3\n",
       "3                The Weeknd   Blinding Lights     4\n",
       "4                   Cardi B                Up     5"
      ]
     },
     "execution_count": 3,
     "metadata": {},
     "output_type": "execute_result"
    }
   ],
   "source": [
    "data.head()"
   ]
  },
  {
   "cell_type": "code",
   "execution_count": null,
   "metadata": {},
   "outputs": [],
   "source": [
    "# Find other lists of hot songs on the internet and scrape them too: having a bigger pool of songs will be awesome"
   ]
  },
  {
   "cell_type": "code",
   "execution_count": 5,
   "metadata": {},
   "outputs": [],
   "source": [
    "def scrape_vortex():\n",
    "    from bs4 import BeautifulSoup\n",
    "    import requests\n",
    "    import pandas as pd\n",
    "    import numpy as np\n",
    "    \n",
    "    url3 = 'http://www.popvortex.com/music/charts/top-100-songs.php'\n",
    "    response3 = requests.get(url3)\n",
    "    soup3 = BeautifulSoup(response3.content, 'html.parser')\n",
    "    song3 =  []\n",
    "    artist3 = []\n",
    "    for i in range(1,101):\n",
    "        song3.append(soup3.select(f\"#chart-position-{i} > div.chart-content.col-xs-12.col-sm-8 > p > cite\")[0].get_text())\n",
    "        artist3.append(soup3.select(f\"#chart-position-{i} > div.chart-content.col-xs-12.col-sm-8 > p > em\")[0].get_text())\n",
    "        \n",
    "    df_vortex = pd.DataFrame({'artist':artist3, \n",
    "             'song': song3})\n",
    "    df_vortex['rank'] = np.arange(1, len(df_vortex)+1)\n",
    "    \n",
    "    return df_vortex"
   ]
  },
  {
   "cell_type": "code",
   "execution_count": 6,
   "metadata": {},
   "outputs": [],
   "source": [
    "data_vortex = scrape_vortex()"
   ]
  },
  {
   "cell_type": "code",
   "execution_count": 7,
   "metadata": {},
   "outputs": [
    {
     "data": {
      "text/html": [
       "<div>\n",
       "<style scoped>\n",
       "    .dataframe tbody tr th:only-of-type {\n",
       "        vertical-align: middle;\n",
       "    }\n",
       "\n",
       "    .dataframe tbody tr th {\n",
       "        vertical-align: top;\n",
       "    }\n",
       "\n",
       "    .dataframe thead th {\n",
       "        text-align: right;\n",
       "    }\n",
       "</style>\n",
       "<table border=\"1\" class=\"dataframe\">\n",
       "  <thead>\n",
       "    <tr style=\"text-align: right;\">\n",
       "      <th></th>\n",
       "      <th>artist</th>\n",
       "      <th>song</th>\n",
       "      <th>rank</th>\n",
       "    </tr>\n",
       "  </thead>\n",
       "  <tbody>\n",
       "    <tr>\n",
       "      <th>0</th>\n",
       "      <td>Elle King &amp; Miranda Lambert</td>\n",
       "      <td>Drunk (And I Don't Wanna Go Home)</td>\n",
       "      <td>1</td>\n",
       "    </tr>\n",
       "    <tr>\n",
       "      <th>1</th>\n",
       "      <td>Tom MacDonald</td>\n",
       "      <td>Clown World</td>\n",
       "      <td>2</td>\n",
       "    </tr>\n",
       "    <tr>\n",
       "      <th>2</th>\n",
       "      <td>Ava Max</td>\n",
       "      <td>My Head &amp; My Heart</td>\n",
       "      <td>3</td>\n",
       "    </tr>\n",
       "    <tr>\n",
       "      <th>3</th>\n",
       "      <td>Lauren Daigle</td>\n",
       "      <td>Hold On To Me</td>\n",
       "      <td>4</td>\n",
       "    </tr>\n",
       "    <tr>\n",
       "      <th>4</th>\n",
       "      <td>Cardi B</td>\n",
       "      <td>Up</td>\n",
       "      <td>5</td>\n",
       "    </tr>\n",
       "  </tbody>\n",
       "</table>\n",
       "</div>"
      ],
      "text/plain": [
       "                        artist                               song  rank\n",
       "0  Elle King & Miranda Lambert  Drunk (And I Don't Wanna Go Home)     1\n",
       "1                Tom MacDonald                        Clown World     2\n",
       "2                      Ava Max                 My Head & My Heart     3\n",
       "3                Lauren Daigle                      Hold On To Me     4\n",
       "4                      Cardi B                                 Up     5"
      ]
     },
     "execution_count": 7,
     "metadata": {},
     "output_type": "execute_result"
    }
   ],
   "source": [
    "data_vortex.head()"
   ]
  },
  {
   "cell_type": "code",
   "execution_count": null,
   "metadata": {},
   "outputs": [],
   "source": [
    "# Practice web scraping"
   ]
  },
  {
   "cell_type": "code",
   "execution_count": null,
   "metadata": {},
   "outputs": [],
   "source": []
  }
 ],
 "metadata": {
  "kernelspec": {
   "display_name": "Python 3",
   "language": "python",
   "name": "python3"
  },
  "language_info": {
   "codemirror_mode": {
    "name": "ipython",
    "version": 3
   },
   "file_extension": ".py",
   "mimetype": "text/x-python",
   "name": "python",
   "nbconvert_exporter": "python",
   "pygments_lexer": "ipython3",
   "version": "3.8.6"
  }
 },
 "nbformat": 4,
 "nbformat_minor": 4
}
